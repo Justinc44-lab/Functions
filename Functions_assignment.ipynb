{
  "nbformat": 4,
  "nbformat_minor": 0,
  "metadata": {
    "colab": {
      "provenance": []
    },
    "kernelspec": {
      "name": "python3",
      "display_name": "Python 3"
    },
    "language_info": {
      "name": "python"
    }
  },
  "cells": [
    {
      "cell_type": "markdown",
      "source": [
        "1. What is the difference between a function and a method in Python ?\n",
        ">>> A function is a block of code that is defined independently, outside of any class. It can be called directly and can take arguments and return values.\n",
        "example - def greet(name):\n",
        "    return f\"Hello, {name}!\"\n",
        "print(greet(\"Alice\"))  # Output: Hello, Alice!\n",
        "    A method is a function that is associated with an object, usually a class. It is called on an instance of the class and typically operates on the data contained in that object.\n",
        "example - class Person:\n",
        "    def __init__(self, name):\n",
        "        self.name = name\n",
        "    def greet(self):\n",
        "        return f\"Hello, {self.name}!\"\n",
        "p = Person(\"Alice\")\n",
        "print(p.greet())  # Output: Hello, Alice!\n",
        "\n",
        "2.  Explain the concept of function arguments and parameters in Python.\n",
        ">>> In Python, parameters and arguments are closely related but distinct concepts used in functions.\n",
        "Parameters are the names defined in the function signature to accept input values.\n",
        "Arguments are the actual values passed to the function when it is called.\n",
        "example -\n",
        "# Function with parameters 'x' and 'y'\n",
        "def add(x, y):\n",
        "    return x + y\n",
        "\n",
        "# Passing arguments 5 and 3 to the function\n",
        "result = add(5, 3)  # 5 and 3 are arguments\n",
        "print(result)  # Output: 8\n",
        "\n",
        "3.  What are the different ways to define and call a function in Python ?\n",
        ">>> Here’s a **short summary** of the different ways to define and call functions in Python:\n",
        "\n",
        "a. **Standard Function**: Defined using `def` and called by its name.\n",
        "   Example -\n",
        "    def greet(name): return f\"Hello, {name}\"\n",
        "    print(greet(\"Alice\"))\n",
        "b. **Lambda (Anonymous Function)**: A small one-liner function.\n",
        "   Example -\n",
        "    square = lambda x: x * x\n",
        "    print(square(4))\n",
        "c. **Recursive Function**: A function that calls itself.\n",
        "   Example -\n",
        "    def factorial(n): return 1 if n == 1 else n * factorial(n - 1)\n",
        "    print(factorial(5))\n",
        "d. **Function with Default Parameters**: Parameters with default values.\n",
        "   Example -\n",
        "    def greet(name, age=25): return f\"{name} is {age}\"\n",
        "    print(greet(\"Alice\"))\n",
        "e. **Variable Arguments**: Using `*args` for multiple arguments.\n",
        "   Example -\n",
        "    def add(*args): return sum(args)\n",
        "    print(add(1, 2, 3))\n",
        "f. **Keyword-Only Arguments**: Using `*` to enforce keyword arguments.\n",
        "   Example -\n",
        "    def greet(*, name): return f\"Hello, {name}\"\n",
        "    print(greet(name=\"Alice\"))\n",
        "g. **Nested Functions**: Functions inside functions.\n",
        "   Example -\n",
        "    def outer(x): return x + 5\n",
        "    print(outer(10))\n",
        "h. **Calling Functions Dynamically**: Using `globals()` or `getattr()`.\n",
        "   Example -\n",
        "    def say_hello(): return \"Hello!\"\n",
        "    print(globals()[\"say_hello\"]())\n",
        "i. **Method in Class**: Functions defined inside a class.\n",
        "   Example -\n",
        "    class Person: def greet(self): return \"Hello!\"\n",
        "    p = Person()\n",
        "    print(p.greet())\n",
        "j. **Function as Argument**: Passing a function as an argument.\n",
        "   Example -\n",
        "    def apply(func, x): return func(x)\n",
        "    print(apply(lambda x: x * 2, 5))\n",
        "k. **Using Decorators**: Functions that modify behavior of other functions.\n",
        "   Example\n",
        "    def decorator(func): return lambda: f\"Before {func()} After\"\n",
        "    @decorator\n",
        "    def say_hello(): return \"Hello!\"\n",
        "    print(say_hello())\n",
        "In summary, functions in Python are flexible and can be defined in many ways, including using default values, recursive calls, variable arguments, and decorators. Functions can also be passed around as first-class objects, allowing dynamic behavior.\n",
        "\n",
        " 4. What is the purpose of the `return` statement in a Python function?\n",
        " >>> The `return` statement in Python is used to send a result back from a function and stop its execution.\n",
        " Purpose:\n",
        "- **Exit the function**: Ends the function and sends back a value.\n",
        "- **Return a value**: The value can be used by the caller.\n",
        "Example:\n",
        "def add(x, y):\n",
        "    return x + y  # Returns the sum\n",
        "result = add(3, 5)  # result is 8\n",
        "print(result)  # Output: 8\n",
        "Without `return`, the function returns `None` by default.\n",
        "\n",
        "5. What are iterators in Python and how do they differ from iterables ?\n",
        ">>> In Python:\n",
        "**Iterable**: An object (e.g., list, string) that can be looped over. It has an `__iter__()` method that returns an iterator.  \n",
        "**Iterator**: An object that keeps track of the current position during iteration and provides the next element using the `__next__()` method.\n",
        "Example:\n",
        "my_list = [1, 2, 3]\n",
        "iterator = iter(my_list)  # Converts to an iterator\n",
        "\n",
        "print(next(iterator))  # Output: 1\n",
        "print(next(iterator))  # Output: 2\n",
        "**Key Difference**:  \n",
        "- **Iterable**: Can be iterated over, but doesn't track the current element.\n",
        "- **Iterator**: Tracks the current element and provides the next one when called.\n",
        "\n",
        "6. Explain the concept of generators in Python and how they are defined\n",
        ">>>**Generators** in Python are functions that yield values one at a time using the `yield` keyword. They are memory efficient because they generate values on-the-fly instead of storing them in memory.\n",
        "Example:\n",
        "def count_up_to(n):\n",
        "    count = 1\n",
        "    while count <= n:\n",
        "        yield count\n",
        "        count += 1\n",
        "\n",
        "gen = count_up_to(3)\n",
        "for num in gen:\n",
        "    print(num)  # Output: 1, 2, 3\n",
        " Key Points:\n",
        "- **`yield`** produces values one at a time.\n",
        "- Generators are **memory efficient** and **lazily evaluated**.\n",
        "\n",
        "7. What are the advantages of using generators over regular functions ?\n",
        ">>> **Advantages of using generators over regular functions**:\n",
        "1. **Memory Efficiency**: Generators do not store all values in memory. They generate values one at a time, which is useful for large datasets.   \n",
        "2. **Lazy Evaluation**: Values are generated only when needed, improving performance when working with large or infinite sequences.\n",
        "3. **Cleaner Code**: Generators allow a clean and simple way to handle iteration without managing states or creating additional lists.\n",
        "Example:\n",
        "**Regular Function** (Stores all values in memory):\n",
        "def generate_numbers(n):\n",
        "    result = []\n",
        "    for i in range(1, n+1):\n",
        "        result.append(i)\n",
        "    return result\n",
        "numbers = generate_numbers(5)\n",
        "print(numbers)  # [1, 2, 3, 4, 5]\n",
        "\n",
        "**Generator** (Uses less memory):\n",
        "python\n",
        "def generate_numbers(n):\n",
        "    for i in range(1, n+1):\n",
        "        yield i  # Only generates one value at a time\n",
        "numbers = generate_numbers(5)\n",
        "for num in numbers:\n",
        "    print(num)  # Output: 1, 2, 3, 4, 5\n",
        "Summary:\n",
        "- **Generators** are more **memory-efficient** and **faster** for large datasets compared to regular functions that store all values at once.\n",
        "\n",
        "8. What is a lambda function in Python and when is it typically used ?\n",
        ">>> Lambda functions are small, anonymous functions defined using the lambda keyword. They are used for creating small, throwaway functions without the need to formally define a function using def  \n",
        "Key Points:\n",
        "Anonymous: Lambda functions are not bound to a name.\n",
        "Single Expression: They can contain only one expression, which is evaluated and returned.\n",
        "Syntax:\n",
        "lambda arguments: expression\n",
        "example -\n",
        "# A simple lambda function\n",
        "square = lambda x: x * x\n",
        "print(square(5))  # Output: 25\n",
        "\n",
        "9. Explain the purpose and usage of the `map()` function in Python\n",
        ">>>The `map()` function in Python applies a given function to all items in an iterable (e.g., list) and returns a map object (iterator) of the results.\n",
        "Example:\n",
        "numbers = [1, 2, 3, 4]\n",
        "squared = list(map(lambda x: x * x, numbers))  # Squaring each number\n",
        "print(squared)  # Output: [1, 4, 9, 16]\n",
        "\n",
        "10. What is the difference between `map()`, `reduce()`, and `filter()` functions in Python ?\n",
        ">>> The `map()`, `reduce()`, and `filter()` functions in Python are used to apply functions to iterables, but they differ in how they process the data:\n",
        "a. **`map()`**:\n",
        "   - **Purpose**: Applies a function to each item in an iterable and returns a map object (iterator) with the results.\n",
        "   - **Example**:\n",
        "   numbers = [1, 2, 3]\n",
        "   squared = list(map(lambda x: x * x, numbers))\n",
        "   print(squared)  # Output: [1, 4, 9]\n",
        "b. **`reduce()`** (from the `functools` module):\n",
        "   - **Purpose**: Applies a function cumulatively to the items of an iterable, reducing them to a single value.\n",
        "   - **Example**:\n",
        "   from functools import reduce\n",
        "   numbers = [1, 2, 3, 4]\n",
        "   product = reduce(lambda x, y: x * y, numbers)\n",
        "   print(product)  # Output: 24\n",
        "c. **`filter()`**:\n",
        "   - **Purpose**: Filters elements of an iterable based on a function that returns `True` or `False`, returning only the elements that evaluate to `True`.\n",
        "   - **Example**:\n",
        "   numbers = [1, 2, 3, 4]\n",
        "   even_numbers = list(filter(lambda x: x % 2 == 0, numbers))\n",
        "   print(even_numbers)  # Output: [2, 4]\n",
        " Summary:\n",
        "- **`map()`**: Transforms each element.\n",
        "- **`reduce()`**: Reduces the iterable to a single value.\n",
        "- **`filter()`**: Filters elements based on a condition.\n",
        "\n",
        "11. Using pen & Paper write the internal mechanism for sum operation using  reduce function on this given\n",
        "list:[47,11,42,13]\n",
        ">>>\n",
        "numbers = [47, 11, 42, 13]\n",
        "result = reduce(lambda x, y: x + y, numbers)\n",
        "print(result)\n",
        "Internal Mechanism in Steps:\n",
        "a.Start with the first two elements (47 and 11), apply the lambda function: 47 + 11 = 58.\n",
        "b.Take the result 58 and apply the lambda function with the next element 42: 58 + 42 = 100.\n",
        "c.Take the result 100 and apply the lambda function with the final element 13: 100 + 13 = 113."
      ],
      "metadata": {
        "id": "G-DCsbFW0DNn"
      }
    },
    {
      "cell_type": "code",
      "source": [
        "# Practical questions\n"
      ],
      "metadata": {
        "id": "vbK0eSVL0GBK"
      },
      "execution_count": null,
      "outputs": []
    },
    {
      "cell_type": "code",
      "source": [
        "#1 Write a Python function that takes a list of numbers as input and returns the sum of all even numbers in the list\n",
        "def sum_of_even_numbers(numbers):\n",
        "    return sum(filter(lambda x: x % 2 == 0, numbers))\n",
        "numbers = [1,2,3,4,5,6,7,8]\n",
        "result = sum_of_even_numbers(numbers)\n",
        "print(result)\n"
      ],
      "metadata": {
        "colab": {
          "base_uri": "https://localhost:8080/"
        },
        "id": "fm7effnzKAaY",
        "outputId": "1524637f-7fff-403a-a051-521237d53b66"
      },
      "execution_count": null,
      "outputs": [
        {
          "output_type": "stream",
          "name": "stdout",
          "text": [
            "20\n"
          ]
        }
      ]
    },
    {
      "cell_type": "code",
      "source": [
        "#2 Create a Python function that accepts a string and returns the reverse of that string\n",
        "def reverse_string(string):\n",
        "    return string[::-1]\n",
        "string = \"Hello World\"\n",
        "result = reverse_string(string)\n",
        "print(result)"
      ],
      "metadata": {
        "colab": {
          "base_uri": "https://localhost:8080/"
        },
        "id": "A92aBz4lKlWt",
        "outputId": "131dd687-1334-4c83-f47d-9a58f46462d2"
      },
      "execution_count": null,
      "outputs": [
        {
          "output_type": "stream",
          "name": "stdout",
          "text": [
            "dlroW olleH\n"
          ]
        }
      ]
    },
    {
      "cell_type": "code",
      "source": [
        "#3 . Implement a Python function that takes a list of integers and returns a new list containing the squares of each number\n",
        "def square_numbers(numbers):\n",
        "    return list(map(lambda x: x**2, numbers))\n",
        "numbers = [1,2,3,4,5]\n",
        "result = square_numbers(numbers)\n",
        "print(result)"
      ],
      "metadata": {
        "colab": {
          "base_uri": "https://localhost:8080/"
        },
        "id": "Iu_UNGdIKmDt",
        "outputId": "d51796cb-e471-4491-c4bb-dc8f300d58e6"
      },
      "execution_count": null,
      "outputs": [
        {
          "output_type": "stream",
          "name": "stdout",
          "text": [
            "[1, 4, 9, 16, 25]\n"
          ]
        }
      ]
    },
    {
      "cell_type": "code",
      "source": [
        "#4 Write a Python function that checks if a given number is prime or not from 1 to 200\n",
        "def is_prime(n):\n",
        "    if n <= 1:\n",
        "        return False  # 1 and numbers less than 1 are not prime\n",
        "    for i in range(2, int(n**0.5) + 1):\n",
        "        if n % i == 0:\n",
        "            return False  # If divisible by any number, it's not prime\n",
        "    return True  # Otherwise, it's prime\n",
        "\n",
        "# Example usage: Check prime numbers from 1 to 200\n",
        "for num in range(1, 201):\n",
        "    if is_prime(num):\n",
        "        print(num, end=\" \")\n"
      ],
      "metadata": {
        "colab": {
          "base_uri": "https://localhost:8080/"
        },
        "id": "wIsoxk2BKmky",
        "outputId": "1d73f4c5-a83e-4c51-ea53-9566178eb05a"
      },
      "execution_count": null,
      "outputs": [
        {
          "output_type": "stream",
          "name": "stdout",
          "text": [
            "2 3 5 7 11 13 17 19 23 29 31 37 41 43 47 53 59 61 67 71 73 79 83 89 97 101 103 107 109 113 127 131 137 139 149 151 157 163 167 173 179 181 191 193 197 199 "
          ]
        }
      ]
    },
    {
      "cell_type": "code",
      "source": [
        "#5 Create an iterator class in Python that generates the Fibonacci sequence up to a specified number of terms\n",
        "class FibonacciIterator:\n",
        "    def __init__(self, num_terms):\n",
        "        # Initialize the first two Fibonacci numbers and the count of terms\n",
        "        self.num_terms = num_terms\n",
        "        self.a, self.b = 0, 1\n",
        "        self.count = 0\n",
        "\n",
        "    def __iter__(self):\n",
        "        # Return the iterator object itself\n",
        "        return self\n",
        "\n",
        "    def __next__(self):\n",
        "        # If we have generated the desired number of terms, raise StopIteration\n",
        "        if self.count >= self.num_terms:\n",
        "            raise StopIteration\n",
        "        # Generate the next Fibonacci number\n",
        "        self.count += 1\n",
        "        fibonacci_number = self.a\n",
        "        self.a, self.b = self.b, self.a + self.b\n",
        "        return fibonacci_number\n",
        "\n",
        "# Example usage:\n",
        "fibonacci = FibonacciIterator(10)  # Generate first 10 Fibonacci numbers\n",
        "for num in fibonacci:\n",
        "    print(num)\n",
        "\n"
      ],
      "metadata": {
        "id": "0eR95GUnKm8p",
        "colab": {
          "base_uri": "https://localhost:8080/"
        },
        "outputId": "a571ceaa-31c8-40fe-8d12-9f6024efa171"
      },
      "execution_count": 1,
      "outputs": [
        {
          "output_type": "stream",
          "name": "stdout",
          "text": [
            "0\n",
            "1\n",
            "1\n",
            "2\n",
            "3\n",
            "5\n",
            "8\n",
            "13\n",
            "21\n",
            "34\n"
          ]
        }
      ]
    },
    {
      "cell_type": "code",
      "source": [
        "#6 Write a generator function in Python that yields the powers of 2 up to a given exponent.\n",
        "def power_of_two(exponent):\n",
        "    for i in range(exponent + 1):\n",
        "        yield 2 ** i\n",
        "\n",
        "for power in power_of_two(5):\n",
        "    print(power)"
      ],
      "metadata": {
        "id": "-b8Z2KkfKnxI",
        "colab": {
          "base_uri": "https://localhost:8080/"
        },
        "outputId": "4e33bea0-a0a5-4244-d295-332979fa00ab"
      },
      "execution_count": 3,
      "outputs": [
        {
          "output_type": "stream",
          "name": "stdout",
          "text": [
            "1\n",
            "2\n",
            "4\n",
            "8\n",
            "16\n",
            "32\n"
          ]
        }
      ]
    },
    {
      "cell_type": "code",
      "source": [
        "#7 Implement a generator function that reads a file line by line and yields each line as a string.\n",
        "def read_file_line_by_line(file_path):\n",
        "    \"\"\"\n",
        "    Reads a file line by line and yields each line as a string.\n",
        "\n",
        "    Args:\n",
        "    file_path (str): The path to the file.\n",
        "\n",
        "    Yields:\n",
        "    str: Each line of the file as a string.\n",
        "    \"\"\"\n",
        "    try:  # Try opening and reading the file\n",
        "        with open(file_path, 'r') as file:\n",
        "            for line in file:\n",
        "                yield line\n",
        "    except FileNotFoundError:\n",
        "        print(f\"Error: File not found at path: {file_path}\")  # Print an error if the file is not found\n",
        "\n",
        "# Try to use 'example.txt' (if it exists), otherwise you can use a different existing file\n",
        "# or create 'example.txt' with some content.\n",
        "file_path = 'example.txt'\n",
        "# or\n",
        "# file_path = '<name of a different existing file>'\n",
        "\n",
        "for line in read_file_line_by_line(file_path):\n",
        "  print(line)\n"
      ],
      "metadata": {
        "id": "9DGEraTlKoHr",
        "colab": {
          "base_uri": "https://localhost:8080/"
        },
        "outputId": "470eb37d-42aa-4af6-cfb7-df4b61985c2f"
      },
      "execution_count": 10,
      "outputs": [
        {
          "output_type": "stream",
          "name": "stdout",
          "text": [
            "Error: File not found at path: example.txt\n"
          ]
        }
      ]
    },
    {
      "cell_type": "code",
      "source": [
        "#8  Use a lambda function in Python to sort a list of tuples based on the second element of each tuple\n",
        "my_list = [(1, 5), (3, 2), (2, 8), (5, 1)]\n",
        "sorted_list = sorted(my_list, key=lambda x: x[1])\n",
        "print(sorted_list)"
      ],
      "metadata": {
        "id": "eOniJAJiKoh-",
        "colab": {
          "base_uri": "https://localhost:8080/"
        },
        "outputId": "06b0d5b9-9d83-4514-c597-10cd86ed418d"
      },
      "execution_count": 11,
      "outputs": [
        {
          "output_type": "stream",
          "name": "stdout",
          "text": [
            "[(5, 1), (3, 2), (1, 5), (2, 8)]\n"
          ]
        }
      ]
    },
    {
      "cell_type": "code",
      "source": [
        "#9 Write a Python program that uses `map()` to convert a list of temperatures from Celsius to Fahrenheit\n",
        "def celsius_to_fahrenheit(celsius):\n",
        "    return (celsius * 9/5) + 32\n",
        "\n",
        "celsius = [0, 10, 20, 30, 40]\n",
        "fahrenheit = list(map(celsius_to_fahrenheit, celsius))\n",
        "print(fahrenheit)"
      ],
      "metadata": {
        "id": "bRHds1pnKo_D",
        "colab": {
          "base_uri": "https://localhost:8080/"
        },
        "outputId": "2761bf1a-9a86-4d9f-ecf0-a4dea6986451"
      },
      "execution_count": 13,
      "outputs": [
        {
          "output_type": "stream",
          "name": "stdout",
          "text": [
            "[32.0, 50.0, 68.0, 86.0, 104.0]\n"
          ]
        }
      ]
    },
    {
      "cell_type": "code",
      "source": [
        "#10 Create a Python program that uses `filter()` to remove all the vowels from a given string\n",
        "def remove_vowels(string):\n",
        "    vowels = 'aeiouAEIOU'\n",
        "    return ''.join(filter(lambda x: x not in vowels, string))\n",
        "string = \"Hello World\"\n",
        "result = remove_vowels(string)\n",
        "print(result)"
      ],
      "metadata": {
        "id": "FrT9WnYvKpki",
        "colab": {
          "base_uri": "https://localhost:8080/"
        },
        "outputId": "85f18d28-b10b-4571-86fa-53608f9a5f50"
      },
      "execution_count": 14,
      "outputs": [
        {
          "output_type": "stream",
          "name": "stdout",
          "text": [
            "Hll Wrld\n"
          ]
        }
      ]
    },
    {
      "cell_type": "code",
      "source": [
        "#11  Imagine an accounting routine used in a book shop. It works on a list with sublists, which look like this\n",
        "''' order no   Book Title and Author                   Quantity      Price per Item\n",
        "    34587      Learning Python, Mark Lutz                 4              40.95\n",
        "    98762      Programming Python, Mark Lutz              5              56.80\n",
        "    77226      Head First Python, Paul Barry              3              32.95\n",
        "    88112      Einfuhrung in Python3, Bernd Klein         3              24.99 '''\n",
        "#Write a Python program, which returns a list with 2-tuples. Each tuple consists of the order number and the\n",
        "#product of the price per item and the quantity. The product should be increased by 10,- € if the value of the\n",
        "#order is smaller than 100,00 €.\n",
        "\n",
        "#Write a Python program using lambda and map\n",
        "\n",
        "# Input list of orders\n",
        "orders = [\n",
        "    [34587, 'Learning Python, Mark Lutz', 4, 40.95],\n",
        "    [98762, 'Programming Python, Mark Lutz', 5, 56.80],\n",
        "    [77226, 'Head First Python, Paul Barry', 3, 32.95],\n",
        "    [88112, 'Einfuhrung in Python3, Bernd Klein', 3, 24.99]\n",
        "]\n",
        "\n",
        "# Function to process the orders using lambda and map\n",
        "def process_orders(orders):\n",
        "    # Map over the orders, apply the lambda function to each order\n",
        "    result = map(lambda order: (\n",
        "        order[0],  # Order number\n",
        "        order[2] * order[3] + (10 if order[2] * order[3] < 100 else 0)  # Total price with condition\n",
        "    ), orders)\n",
        "\n",
        "    # Return the result as a list of tuples\n",
        "    return list(result)\n",
        "\n",
        "# Example usage\n",
        "processed_orders = process_orders(orders)\n",
        "\n",
        "# Print the result\n",
        "print(processed_orders)\n",
        "\n",
        "\n"
      ],
      "metadata": {
        "id": "7s6T5tnnKqHo",
        "colab": {
          "base_uri": "https://localhost:8080/"
        },
        "outputId": "0b81574c-95d5-4fc3-c04d-758edb3e9349"
      },
      "execution_count": 15,
      "outputs": [
        {
          "output_type": "stream",
          "name": "stdout",
          "text": [
            "[(34587, 163.8), (98762, 284.0), (77226, 108.85000000000001), (88112, 84.97)]\n"
          ]
        }
      ]
    },
    {
      "cell_type": "code",
      "source": [],
      "metadata": {
        "id": "8InXcVvnBHZE"
      },
      "execution_count": null,
      "outputs": []
    }
  ]
}